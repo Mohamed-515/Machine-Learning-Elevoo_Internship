{
 "cells": [
  {
   "cell_type": "code",
   "execution_count": 1,
   "id": "965cb0e7",
   "metadata": {},
   "outputs": [],
   "source": [
    "import os, numpy as np, pandas as pd\n",
    "import matplotlib.pyplot as plt\n",
    "import seaborn as sns\n",
    "\n",
    "from sklearn.model_selection import train_test_split\n",
    "from sklearn.compose import ColumnTransformer\n",
    "from sklearn.preprocessing import OneHotEncoder\n",
    "from sklearn.impute import SimpleImputer\n",
    "from sklearn.pipeline import Pipeline\n",
    "from sklearn.metrics import (\n",
    "    classification_report, confusion_matrix, ConfusionMatrixDisplay,\n",
    "    precision_recall_fscore_support, roc_auc_score\n",
    ")\n",
    "from sklearn.linear_model import LogisticRegression\n",
    "from sklearn.tree import DecisionTreeClassifier\n",
    "\n",
    "# imbalanced-learn (for SMOTE + safe ML pipeline)\n",
    "from imblearn.pipeline import Pipeline as ImbPipeline\n",
    "from imblearn.over_sampling import SMOTE\n",
    "\n",
    "RNG = 42\n",
    "np.random.seed(RNG)\n",
    "pd.set_option(\"display.max_columns\", 200)\n"
   ]
  },
  {
   "cell_type": "code",
   "execution_count": 3,
   "id": "83b0c235",
   "metadata": {},
   "outputs": [
    {
     "name": "stdout",
     "output_type": "stream",
     "text": [
      "Loaded file: loan_approval_dataset.csv | shape: (4269, 13)\n"
     ]
    },
    {
     "data": {
      "text/html": [
       "<div>\n",
       "<style scoped>\n",
       "    .dataframe tbody tr th:only-of-type {\n",
       "        vertical-align: middle;\n",
       "    }\n",
       "\n",
       "    .dataframe tbody tr th {\n",
       "        vertical-align: top;\n",
       "    }\n",
       "\n",
       "    .dataframe thead th {\n",
       "        text-align: right;\n",
       "    }\n",
       "</style>\n",
       "<table border=\"1\" class=\"dataframe\">\n",
       "  <thead>\n",
       "    <tr style=\"text-align: right;\">\n",
       "      <th></th>\n",
       "      <th>loan_id</th>\n",
       "      <th>no_of_dependents</th>\n",
       "      <th>education</th>\n",
       "      <th>self_employed</th>\n",
       "      <th>income_annum</th>\n",
       "      <th>loan_amount</th>\n",
       "      <th>loan_term</th>\n",
       "      <th>cibil_score</th>\n",
       "      <th>residential_assets_value</th>\n",
       "      <th>commercial_assets_value</th>\n",
       "      <th>luxury_assets_value</th>\n",
       "      <th>bank_asset_value</th>\n",
       "      <th>loan_status</th>\n",
       "    </tr>\n",
       "  </thead>\n",
       "  <tbody>\n",
       "    <tr>\n",
       "      <th>0</th>\n",
       "      <td>1</td>\n",
       "      <td>2</td>\n",
       "      <td>Graduate</td>\n",
       "      <td>No</td>\n",
       "      <td>9600000</td>\n",
       "      <td>29900000</td>\n",
       "      <td>12</td>\n",
       "      <td>778</td>\n",
       "      <td>2400000</td>\n",
       "      <td>17600000</td>\n",
       "      <td>22700000</td>\n",
       "      <td>8000000</td>\n",
       "      <td>Approved</td>\n",
       "    </tr>\n",
       "    <tr>\n",
       "      <th>1</th>\n",
       "      <td>2</td>\n",
       "      <td>0</td>\n",
       "      <td>Not Graduate</td>\n",
       "      <td>Yes</td>\n",
       "      <td>4100000</td>\n",
       "      <td>12200000</td>\n",
       "      <td>8</td>\n",
       "      <td>417</td>\n",
       "      <td>2700000</td>\n",
       "      <td>2200000</td>\n",
       "      <td>8800000</td>\n",
       "      <td>3300000</td>\n",
       "      <td>Rejected</td>\n",
       "    </tr>\n",
       "    <tr>\n",
       "      <th>2</th>\n",
       "      <td>3</td>\n",
       "      <td>3</td>\n",
       "      <td>Graduate</td>\n",
       "      <td>No</td>\n",
       "      <td>9100000</td>\n",
       "      <td>29700000</td>\n",
       "      <td>20</td>\n",
       "      <td>506</td>\n",
       "      <td>7100000</td>\n",
       "      <td>4500000</td>\n",
       "      <td>33300000</td>\n",
       "      <td>12800000</td>\n",
       "      <td>Rejected</td>\n",
       "    </tr>\n",
       "    <tr>\n",
       "      <th>3</th>\n",
       "      <td>4</td>\n",
       "      <td>3</td>\n",
       "      <td>Graduate</td>\n",
       "      <td>No</td>\n",
       "      <td>8200000</td>\n",
       "      <td>30700000</td>\n",
       "      <td>8</td>\n",
       "      <td>467</td>\n",
       "      <td>18200000</td>\n",
       "      <td>3300000</td>\n",
       "      <td>23300000</td>\n",
       "      <td>7900000</td>\n",
       "      <td>Rejected</td>\n",
       "    </tr>\n",
       "    <tr>\n",
       "      <th>4</th>\n",
       "      <td>5</td>\n",
       "      <td>5</td>\n",
       "      <td>Not Graduate</td>\n",
       "      <td>Yes</td>\n",
       "      <td>9800000</td>\n",
       "      <td>24200000</td>\n",
       "      <td>20</td>\n",
       "      <td>382</td>\n",
       "      <td>12400000</td>\n",
       "      <td>8200000</td>\n",
       "      <td>29400000</td>\n",
       "      <td>5000000</td>\n",
       "      <td>Rejected</td>\n",
       "    </tr>\n",
       "  </tbody>\n",
       "</table>\n",
       "</div>"
      ],
      "text/plain": [
       "   loan_id   no_of_dependents      education  self_employed   income_annum  \\\n",
       "0        1                  2       Graduate             No        9600000   \n",
       "1        2                  0   Not Graduate            Yes        4100000   \n",
       "2        3                  3       Graduate             No        9100000   \n",
       "3        4                  3       Graduate             No        8200000   \n",
       "4        5                  5   Not Graduate            Yes        9800000   \n",
       "\n",
       "    loan_amount   loan_term   cibil_score   residential_assets_value  \\\n",
       "0      29900000          12           778                    2400000   \n",
       "1      12200000           8           417                    2700000   \n",
       "2      29700000          20           506                    7100000   \n",
       "3      30700000           8           467                   18200000   \n",
       "4      24200000          20           382                   12400000   \n",
       "\n",
       "    commercial_assets_value   luxury_assets_value   bank_asset_value  \\\n",
       "0                  17600000              22700000            8000000   \n",
       "1                   2200000               8800000            3300000   \n",
       "2                   4500000              33300000           12800000   \n",
       "3                   3300000              23300000            7900000   \n",
       "4                   8200000              29400000            5000000   \n",
       "\n",
       "   loan_status  \n",
       "0     Approved  \n",
       "1     Rejected  \n",
       "2     Rejected  \n",
       "3     Rejected  \n",
       "4     Rejected  "
      ]
     },
     "execution_count": 3,
     "metadata": {},
     "output_type": "execute_result"
    }
   ],
   "source": [
    "# Tries typical Kaggle names; place the CSV(s) in the working directory first.\n",
    "candidates = [\n",
    "    \"train.csv\",                         # many Kaggle mirrors\n",
    "    \"loan.csv\", \"loans.csv\",\n",
    "    \"loan_approval_dataset.csv\",\n",
    "    \"LoanApprovalDataset.csv\",\n",
    "    \"loan_approval.csv\",\n",
    "    \"loan_approval_prediction.csv\",\n",
    "    \"train_u6lujuX_CVtuZ9i.csv\"         # classic AV dataset filename\n",
    "]\n",
    "\n",
    "found = None\n",
    "for p in candidates:\n",
    "    if os.path.exists(p):\n",
    "        found = p\n",
    "        break\n",
    "\n",
    "if not found:\n",
    "    raise FileNotFoundError(\n",
    "        \"Put the Kaggle loan dataset CSV here (e.g., train.csv or loan_approval_dataset.csv).\"\n",
    "    )\n",
    "\n",
    "df = pd.read_csv(found)\n",
    "print(\"Loaded file:\", found, \"| shape:\", df.shape)\n",
    "df.head()\n"
   ]
  },
  {
   "cell_type": "code",
   "execution_count": 4,
   "id": "9a8b76cf",
   "metadata": {},
   "outputs": [
    {
     "name": "stdout",
     "output_type": "stream",
     "text": [
      "<class 'pandas.core.frame.DataFrame'>\n",
      "RangeIndex: 4269 entries, 0 to 4268\n",
      "Data columns (total 13 columns):\n",
      " #   Column                     Non-Null Count  Dtype \n",
      "---  ------                     --------------  ----- \n",
      " 0   loan_id                    4269 non-null   int64 \n",
      " 1    no_of_dependents          4269 non-null   int64 \n",
      " 2    education                 4269 non-null   object\n",
      " 3    self_employed             4269 non-null   object\n",
      " 4    income_annum              4269 non-null   int64 \n",
      " 5    loan_amount               4269 non-null   int64 \n",
      " 6    loan_term                 4269 non-null   int64 \n",
      " 7    cibil_score               4269 non-null   int64 \n",
      " 8    residential_assets_value  4269 non-null   int64 \n",
      " 9    commercial_assets_value   4269 non-null   int64 \n",
      " 10   luxury_assets_value       4269 non-null   int64 \n",
      " 11   bank_asset_value          4269 non-null   int64 \n",
      " 12   loan_status               4269 non-null   object\n",
      "dtypes: int64(10), object(3)\n",
      "memory usage: 433.7+ KB\n",
      "None\n",
      "Missing rate (top 15):\n",
      " loan_id                     0.0\n",
      "no_of_dependents            0.0\n",
      "education                   0.0\n",
      "self_employed               0.0\n",
      "income_annum                0.0\n",
      "loan_amount                 0.0\n",
      "loan_term                   0.0\n",
      "cibil_score                 0.0\n",
      "residential_assets_value    0.0\n",
      "commercial_assets_value     0.0\n",
      "luxury_assets_value         0.0\n",
      "bank_asset_value            0.0\n",
      "loan_status                 0.0\n",
      "dtype: float64\n",
      "Class counts:\n",
      " loan_status\n",
      "Approved    2656\n",
      "Rejected    1613\n",
      "Name: count, dtype: int64\n"
     ]
    },
    {
     "data": {
      "image/png": "[encoded data removed]",
      "text/plain": [
       "<Figure size 500x300 with 1 Axes>"
      ]
     },
     "metadata": {},
     "output_type": "display_data"
    }
   ],
   "source": [
    "print(df.info())\n",
    "\n",
    "# Standardize column names (lowercase, strip spaces)\n",
    "df.columns = [c.strip().lower() for c in df.columns]\n",
    "\n",
    "# Identify target column variants\n",
    "target_candidates = [\"loan_status\", \"status\", \"loan_approval_status\", \"approved\", \"loanstatus\"]\n",
    "y_col = None\n",
    "for c in target_candidates:\n",
    "    if c in df.columns:\n",
    "        y_col = c\n",
    "        break\n",
    "if y_col is None:\n",
    "    raise ValueError(\"Target column not found. Expected one of: \" + \", \".join(target_candidates))\n",
    "\n",
    "# Quick missingness check\n",
    "missing = df.isna().mean().sort_values(ascending=False)\n",
    "print(\"Missing rate (top 15):\\n\", missing.head(15))\n",
    "\n",
    "# Class distribution\n",
    "print(\"Class counts:\\n\", df[y_col].value_counts(dropna=False))\n",
    "plt.figure(figsize=(5,3))\n",
    "df[y_col].value_counts().plot(kind=\"bar\")\n",
    "plt.title(\"Target distribution\")\n",
    "plt.xlabel(y_col)\n",
    "plt.ylabel(\"count\")\n",
    "plt.tight_layout()\n",
    "plt.show()\n"
   ]
  },
  {
   "cell_type": "code",
   "execution_count": 6,
   "id": "5389d632",
   "metadata": {},
   "outputs": [
    {
     "name": "stdout",
     "output_type": "stream",
     "text": [
      "X shape: (4269, 11) | y positive rate: 0.6222\n"
     ]
    }
   ],
   "source": [
    "y_raw = df[y_col].copy()\n",
    "\n",
    "# Map common encodings to {0,1}\n",
    "# Typical Kaggle: 'Y'/'N'. Some sets use 'Approved'/'Rejected', or 1/0 already.\n",
    "mapping = {\n",
    "    \"y\": 1, \"yes\": 1, \"approved\": 1, \"1\": 1, 1: 1, True: 1,\n",
    "    \"n\": 0, \"no\": 0, \"rejected\": 0, \"0\": 0, 0: 0, False: 0\n",
    "}\n",
    "def map_target(v):\n",
    "    if pd.isna(v): return np.nan\n",
    "    s = str(v).strip().lower()\n",
    "    return mapping.get(s, np.nan)\n",
    "\n",
    "y = y_raw.apply(map_target)\n",
    "if y.isna().any():\n",
    "    # If some labels are still NaN, show unique values to fix mapping.\n",
    "    print(\"Unique target values:\", sorted(df[y_col].dropna().astype(str).str.lower().unique()))\n",
    "    raise ValueError(\"Unmapped target labels. Extend mapping above if needed.\")\n",
    "\n",
    "# Drop target from features; drop obvious id columns if present\n",
    "X = df.drop(columns=[y_col])\n",
    "for id_like in [\"loan_id\", \"id\", \"customer_id\", \"applicant_id\"]:\n",
    "    if id_like in X.columns:\n",
    "        X = X.drop(columns=[id_like])\n",
    "\n",
    "print(\"X shape:\", X.shape, \"| y positive rate:\", y.mean().round(4))\n"
   ]
  },
  {
   "cell_type": "code",
   "execution_count": 7,
   "id": "49ec5db3",
   "metadata": {},
   "outputs": [
    {
     "name": "stdout",
     "output_type": "stream",
     "text": [
      "Numeric cols: 9 | Categorical cols: 2\n"
     ]
    }
   ],
   "source": [
    "num_cols = X.select_dtypes(include=[np.number]).columns.tolist()\n",
    "cat_cols = [c for c in X.columns if c not in num_cols]\n",
    "\n",
    "# Build OneHotEncoder with cross-version fallback (dense needed for SMOTE)\n",
    "try:\n",
    "    ohe = OneHotEncoder(handle_unknown=\"ignore\", sparse_output=False)\n",
    "except TypeError:\n",
    "    ohe = OneHotEncoder(handle_unknown=\"ignore\", sparse=False)\n",
    "\n",
    "num_pipe = Pipeline(steps=[(\"imp\", SimpleImputer(strategy=\"median\"))])\n",
    "cat_pipe = Pipeline(steps=[(\"imp\", SimpleImputer(strategy=\"most_frequent\")),\n",
    "                           (\"ohe\", ohe)])\n",
    "\n",
    "pre = ColumnTransformer(\n",
    "    transformers=[\n",
    "        (\"num\", num_pipe, num_cols),\n",
    "        (\"cat\", cat_pipe, cat_cols),\n",
    "    ],\n",
    "    remainder=\"drop\"\n",
    ")\n",
    "\n",
    "print(f\"Numeric cols: {len(num_cols)} | Categorical cols: {len(cat_cols)}\")\n"
   ]
  },
  {
   "cell_type": "code",
   "execution_count": 8,
   "id": "8413dfe1",
   "metadata": {},
   "outputs": [
    {
     "data": {
      "text/plain": [
       "((3415, 11), (854, 11), np.float64(0.6223), np.float64(0.6218))"
      ]
     },
     "execution_count": 8,
     "metadata": {},
     "output_type": "execute_result"
    }
   ],
   "source": [
    "X_train, X_test, y_train, y_test = train_test_split(\n",
    "    X, y, test_size=0.2, stratify=y, random_state=RNG\n",
    ")\n",
    "X_train.shape, X_test.shape, y_train.mean().round(4), y_test.mean().round(4)\n"
   ]
  },
  {
   "cell_type": "code",
   "execution_count": 9,
   "id": "28497b38",
   "metadata": {},
   "outputs": [],
   "source": [
    "def evaluate_binary(model, X_te, y_te, title=\"Model\"):\n",
    "    y_pred = model.predict(X_te)\n",
    "    # Try proba for ROC-AUC; fallback to decision_function if needed\n",
    "    try:\n",
    "        y_score = model.predict_proba(X_te)[:,1]\n",
    "    except Exception:\n",
    "        try:\n",
    "            y_score = model.decision_function(X_te)\n",
    "        except Exception:\n",
    "            y_score = None\n",
    "\n",
    "    print(f\"\\n=== {title} ===\")\n",
    "    print(classification_report(y_te, y_pred, digits=4))\n",
    "\n",
    "    cm = confusion_matrix(y_te, y_pred)\n",
    "    disp = ConfusionMatrixDisplay(cm, display_labels=[0,1])\n",
    "    fig, ax = plt.subplots(figsize=(5,5))\n",
    "    disp.plot(ax=ax, cmap=\"Blues\", values_format=\"d\", colorbar=False)\n",
    "    ax.set_title(f\"{title} — Confusion Matrix\")\n",
    "    plt.tight_layout(); plt.show()\n",
    "\n",
    "    p, r, f1, _ = precision_recall_fscore_support(y_te, y_pred, average=\"binary\")\n",
    "    auc = roc_auc_score(y_te, y_score) if y_score is not None else np.nan\n",
    "    return {\"model\": title, \"precision\": p, \"recall\": r, \"f1\": f1, \"roc_auc\": auc}\n"
   ]
  },
  {
   "cell_type": "code",
   "execution_count": 10,
   "id": "fdf1a56e",
   "metadata": {},
   "outputs": [
    {
     "name": "stdout",
     "output_type": "stream",
     "text": [
      "\n",
      "=== Logistic (balanced) ===\n",
      "              precision    recall  f1-score   support\n",
      "\n",
      "           0     0.7419    0.7121    0.7267       323\n",
      "           1     0.8290    0.8493    0.8391       531\n",
      "\n",
      "    accuracy                         0.7974       854\n",
      "   macro avg     0.7855    0.7807    0.7829       854\n",
      "weighted avg     0.7961    0.7974    0.7966       854\n",
      "\n"
     ]
    },
    {
     "data": {
      "image/png": "[encoded data removed]",
      "text/plain": [
       "<Figure size 500x500 with 1 Axes>"
      ]
     },
     "metadata": {},
     "output_type": "display_data"
    },
    {
     "data": {
      "text/plain": [
       "{'model': 'Logistic (balanced)',\n",
       " 'precision': 0.8290441176470589,\n",
       " 'recall': 0.8493408662900188,\n",
       " 'f1': 0.8390697674418605,\n",
       " 'roc_auc': np.float64(0.8652055529318479)}"
      ]
     },
     "execution_count": 10,
     "metadata": {},
     "output_type": "execute_result"
    }
   ],
   "source": [
    "log_reg = Pipeline(steps=[\n",
    "    (\"pre\", pre),\n",
    "    (\"clf\", LogisticRegression(\n",
    "        solver=\"lbfgs\", max_iter=2000, class_weight=\"balanced\", random_state=RNG\n",
    "    ))\n",
    "])\n",
    "log_reg.fit(X_train, y_train)\n",
    "res_log = evaluate_binary(log_reg, X_test, y_test, title=\"Logistic (balanced)\")\n",
    "res_log\n"
   ]
  },
  {
   "cell_type": "code",
   "execution_count": 11,
   "id": "e15405b5",
   "metadata": {},
   "outputs": [
    {
     "name": "stdout",
     "output_type": "stream",
     "text": [
      "\n",
      "=== Decision Tree (balanced) ===\n",
      "              precision    recall  f1-score   support\n",
      "\n",
      "           0     0.9780    0.9628    0.9704       323\n",
      "           1     0.9776    0.9868    0.9822       531\n",
      "\n",
      "    accuracy                         0.9778       854\n",
      "   macro avg     0.9778    0.9748    0.9763       854\n",
      "weighted avg     0.9778    0.9778    0.9777       854\n",
      "\n"
     ]
    },
    {
     "data": {
      "image/png": "[encoded data removed]",
      "text/plain": [
       "<Figure size 500x500 with 1 Axes>"
      ]
     },
     "metadata": {},
     "output_type": "display_data"
    },
    {
     "data": {
      "text/plain": [
       "{'model': 'Decision Tree (balanced)',\n",
       " 'precision': 0.9776119402985075,\n",
       " 'recall': 0.9868173258003766,\n",
       " 'f1': 0.9821930646672915,\n",
       " 'roc_auc': np.float64(0.9748328115069995)}"
      ]
     },
     "execution_count": 11,
     "metadata": {},
     "output_type": "execute_result"
    }
   ],
   "source": [
    "dt = Pipeline(steps=[\n",
    "    (\"pre\", pre),\n",
    "    (\"clf\", DecisionTreeClassifier(\n",
    "        max_depth=None, min_samples_split=2, class_weight=\"balanced\", random_state=RNG\n",
    "    ))\n",
    "])\n",
    "dt.fit(X_train, y_train)\n",
    "res_dt = evaluate_binary(dt, X_test, y_test, title=\"Decision Tree (balanced)\")\n",
    "res_dt\n"
   ]
  },
  {
   "cell_type": "code",
   "execution_count": 12,
   "id": "c5ba78c5",
   "metadata": {},
   "outputs": [
    {
     "name": "stdout",
     "output_type": "stream",
     "text": [
      "\n",
      "=== SMOTE + Logistic ===\n",
      "              precision    recall  f1-score   support\n",
      "\n",
      "           0     0.7325    0.7121    0.7221       323\n",
      "           1     0.8278    0.8418    0.8347       531\n",
      "\n",
      "    accuracy                         0.7927       854\n",
      "   macro avg     0.7801    0.7769    0.7784       854\n",
      "weighted avg     0.7917    0.7927    0.7921       854\n",
      "\n"
     ]
    },
    {
     "data": {
      "image/png": "[encoded data removed]",
      "text/plain": [
       "<Figure size 500x500 with 1 Axes>"
      ]
     },
     "metadata": {},
     "output_type": "display_data"
    },
    {
     "data": {
      "text/plain": [
       "{'model': 'SMOTE + Logistic',\n",
       " 'precision': 0.8277777777777777,\n",
       " 'recall': 0.8418079096045198,\n",
       " 'f1': 0.834733893557423,\n",
       " 'roc_auc': np.float64(0.8640452910275023)}"
      ]
     },
     "execution_count": 12,
     "metadata": {},
     "output_type": "execute_result"
    }
   ],
   "source": [
    "smote_log = ImbPipeline(steps=[\n",
    "    (\"pre\", pre),\n",
    "    (\"smote\", SMOTE(random_state=RNG, k_neighbors=5)),\n",
    "    (\"clf\", LogisticRegression(solver=\"lbfgs\", max_iter=2000, random_state=RNG))\n",
    "])\n",
    "smote_log.fit(X_train, y_train)\n",
    "res_smote_log = evaluate_binary(smote_log, X_test, y_test, title=\"SMOTE + Logistic\")\n",
    "res_smote_log\n"
   ]
  },
  {
   "cell_type": "code",
   "execution_count": 13,
   "id": "23b868a9",
   "metadata": {},
   "outputs": [
    {
     "name": "stdout",
     "output_type": "stream",
     "text": [
      "\n",
      "=== SMOTE + Decision Tree ===\n",
      "              precision    recall  f1-score   support\n",
      "\n",
      "           0     0.9752    0.9721    0.9736       323\n",
      "           1     0.9831    0.9849    0.9840       531\n",
      "\n",
      "    accuracy                         0.9801       854\n",
      "   macro avg     0.9791    0.9785    0.9788       854\n",
      "weighted avg     0.9801    0.9801    0.9801       854\n",
      "\n"
     ]
    },
    {
     "data": {
      "image/png": "[encoded data removed]",
      "text/plain": [
       "<Figure size 500x500 with 1 Axes>"
      ]
     },
     "metadata": {},
     "output_type": "display_data"
    },
    {
     "data": {
      "text/plain": [
       "{'model': 'SMOTE + Decision Tree',\n",
       " 'precision': 0.9830827067669173,\n",
       " 'recall': 0.9849340866290018,\n",
       " 'f1': 0.9840075258701787,\n",
       " 'roc_auc': np.float64(0.9785351547696093)}"
      ]
     },
     "execution_count": 13,
     "metadata": {},
     "output_type": "execute_result"
    }
   ],
   "source": [
    "smote_dt = ImbPipeline(steps=[\n",
    "    (\"pre\", pre),\n",
    "    (\"smote\", SMOTE(random_state=RNG, k_neighbors=5)),\n",
    "    (\"clf\", DecisionTreeClassifier(random_state=RNG))\n",
    "])\n",
    "smote_dt.fit(X_train, y_train)\n",
    "res_smote_dt = evaluate_binary(smote_dt, X_test, y_test, title=\"SMOTE + Decision Tree\")\n",
    "res_smote_dt\n"
   ]
  },
  {
   "cell_type": "code",
   "execution_count": 14,
   "id": "1fd6551d",
   "metadata": {},
   "outputs": [
    {
     "data": {
      "text/html": [
       "<div>\n",
       "<style scoped>\n",
       "    .dataframe tbody tr th:only-of-type {\n",
       "        vertical-align: middle;\n",
       "    }\n",
       "\n",
       "    .dataframe tbody tr th {\n",
       "        vertical-align: top;\n",
       "    }\n",
       "\n",
       "    .dataframe thead th {\n",
       "        text-align: right;\n",
       "    }\n",
       "</style>\n",
       "<table border=\"1\" class=\"dataframe\">\n",
       "  <thead>\n",
       "    <tr style=\"text-align: right;\">\n",
       "      <th></th>\n",
       "      <th>model</th>\n",
       "      <th>precision</th>\n",
       "      <th>recall</th>\n",
       "      <th>f1</th>\n",
       "      <th>roc_auc</th>\n",
       "    </tr>\n",
       "  </thead>\n",
       "  <tbody>\n",
       "    <tr>\n",
       "      <th>0</th>\n",
       "      <td>SMOTE + Decision Tree</td>\n",
       "      <td>0.983083</td>\n",
       "      <td>0.984934</td>\n",
       "      <td>0.984008</td>\n",
       "      <td>0.978535</td>\n",
       "    </tr>\n",
       "    <tr>\n",
       "      <th>1</th>\n",
       "      <td>Decision Tree (balanced)</td>\n",
       "      <td>0.977612</td>\n",
       "      <td>0.986817</td>\n",
       "      <td>0.982193</td>\n",
       "      <td>0.974833</td>\n",
       "    </tr>\n",
       "    <tr>\n",
       "      <th>2</th>\n",
       "      <td>Logistic (balanced)</td>\n",
       "      <td>0.829044</td>\n",
       "      <td>0.849341</td>\n",
       "      <td>0.839070</td>\n",
       "      <td>0.865206</td>\n",
       "    </tr>\n",
       "    <tr>\n",
       "      <th>3</th>\n",
       "      <td>SMOTE + Logistic</td>\n",
       "      <td>0.827778</td>\n",
       "      <td>0.841808</td>\n",
       "      <td>0.834734</td>\n",
       "      <td>0.864045</td>\n",
       "    </tr>\n",
       "  </tbody>\n",
       "</table>\n",
       "</div>"
      ],
      "text/plain": [
       "                      model  precision    recall        f1   roc_auc\n",
       "0     SMOTE + Decision Tree   0.983083  0.984934  0.984008  0.978535\n",
       "1  Decision Tree (balanced)   0.977612  0.986817  0.982193  0.974833\n",
       "2       Logistic (balanced)   0.829044  0.849341  0.839070  0.865206\n",
       "3          SMOTE + Logistic   0.827778  0.841808  0.834734  0.864045"
      ]
     },
     "execution_count": 14,
     "metadata": {},
     "output_type": "execute_result"
    }
   ],
   "source": [
    "summary = pd.DataFrame([\n",
    "    res_log, res_dt, res_smote_log, res_smote_dt\n",
    "]).sort_values(\"f1\", ascending=False).reset_index(drop=True)\n",
    "summary\n"
   ]
  },
  {
   "cell_type": "code",
   "execution_count": 15,
   "id": "5dfad689",
   "metadata": {},
   "outputs": [
    {
     "data": {
      "image/png": "[encoded data removed]",
      "text/plain": [
       "<Figure size 500x400 with 1 Axes>"
      ]
     },
     "metadata": {},
     "output_type": "display_data"
    }
   ],
   "source": [
    "best_name = summary.loc[0, \"model\"]\n",
    "best = {\n",
    "    \"Logistic (balanced)\": log_reg,\n",
    "    \"Decision Tree (balanced)\": dt,\n",
    "    \"SMOTE + Logistic\": smote_log,\n",
    "    \"SMOTE + Decision Tree\": smote_dt\n",
    "}[best_name]\n",
    "\n",
    "from sklearn.metrics import precision_recall_curve, average_precision_score\n",
    "y_score = best.predict_proba(X_test)[:,1]\n",
    "prec, rec, thr = precision_recall_curve(y_test, y_score)\n",
    "ap = average_precision_score(y_test, y_score)\n",
    "\n",
    "plt.figure(figsize=(5,4))\n",
    "plt.plot(rec, prec, lw=2)\n",
    "plt.xlabel(\"Recall\")\n",
    "plt.ylabel(\"Precision\")\n",
    "plt.title(f\"Precision–Recall Curve | {best_name} (AP={ap:.3f})\")\n",
    "plt.grid(True, alpha=0.3)\n",
    "plt.tight_layout(); plt.show()\n"
   ]
  },
  {
   "cell_type": "code",
   "execution_count": 16,
   "id": "370c4880",
   "metadata": {},
   "outputs": [
    {
     "name": "stdout",
     "output_type": "stream",
     "text": [
      "Saved: loan_approval_best_model.joblib\n"
     ]
    }
   ],
   "source": [
    "# Saves preprocessor+model pipeline for reuse\n",
    "import joblib\n",
    "joblib.dump(best, \"loan_approval_best_model.joblib\")\n",
    "print(\"Saved: loan_approval_best_model.joblib\")\n"
   ]
  },
  {
   "cell_type": "code",
   "execution_count": null,
   "id": "f7b27e4d",
   "metadata": {},
   "outputs": [],
   "source": []
  }
 ],
 "metadata": {
  "kernelspec": {
   "display_name": "Python 3",
   "language": "python",
   "name": "python3"
  },
  "language_info": {
   "codemirror_mode": {
    "name": "ipython",
    "version": 3
   },
   "file_extension": ".py",
   "mimetype": "text/x-python",
   "name": "python",
   "nbconvert_exporter": "python",
   "pygments_lexer": "ipython3",
   "version": "3.13.0"
  }
 },
 "nbformat": 4,
 "nbformat_minor": 5
}
